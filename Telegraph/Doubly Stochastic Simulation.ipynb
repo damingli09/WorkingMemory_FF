{
 "cells": [
  {
   "cell_type": "code",
   "execution_count": 1,
   "metadata": {},
   "outputs": [],
   "source": [
    "from DoublyStocPois import DoublyStocPois\n",
    "import numpy as np\n",
    "import matplotlib.pyplot as plt"
   ]
  },
  {
   "cell_type": "code",
   "execution_count": 2,
   "metadata": {},
   "outputs": [],
   "source": [
    "model = DoublyStocPois(rH=100, rL=5, tauH=0.065, tauL=0.35, duration=3)"
   ]
  },
  {
   "cell_type": "code",
   "execution_count": 11,
   "metadata": {},
   "outputs": [],
   "source": [
    "telegraphs, timings = model.run(ntrials=100)"
   ]
  },
  {
   "cell_type": "code",
   "execution_count": 12,
   "metadata": {},
   "outputs": [
    {
     "name": "stdout",
     "output_type": "stream",
     "text": [
      "[0, 0.01298608624412986, 0.3757919245237366, 0.4565627945663945, 0.658775490065169, 0.7210688436100754, 2.8612919528739362, 2.907505808499044, 2.9960807029513137, 3]\n",
      "[0.003174807115742584, 0.04312373700724351, 0.34934122709309817, 0.3637888667004773, 0.37771107269971227, 0.3793286228327697, 0.38985389128353465, 0.3904756441895335, 0.405511286322903, 0.41612191718183167, 0.4189470783995698, 0.4330772812462143, 0.43455877232796924, 0.43705969127274386, 0.44194185603753106, 0.44949082909970406, 0.45465655690926143, 0.5612925592123295, 0.5825023691914418, 0.6741018423181301, 0.7179519061398928, 0.783854099765408, 1.3334919724304395, 1.9470867219084733, 1.9743212789262694, 2.08115680960577, 2.4643988638733108, 2.4748707220481556, 2.52296099410926, 2.687042775568232, 2.8726022150996466, 2.8783349164964327, 2.8949791956193733]\n"
     ]
    }
   ],
   "source": [
    "print(telegraphs[0])\n",
    "print(timings[0])"
   ]
  },
  {
   "cell_type": "code",
   "execution_count": 13,
   "metadata": {},
   "outputs": [
    {
     "data": {
      "image/png": "[encoded data removed]",
      "text/plain": [
       "<Figure size 576x72 with 1 Axes>"
      ]
     },
     "metadata": {
      "needs_background": "light"
     },
     "output_type": "display_data"
    }
   ],
   "source": [
    "model.plot_telegraph(trialNum=6)"
   ]
  },
  {
   "cell_type": "code",
   "execution_count": 14,
   "metadata": {},
   "outputs": [],
   "source": [
    "spikeCounts = model.spike_count(binsize=0.25)"
   ]
  },
  {
   "cell_type": "code",
   "execution_count": 15,
   "metadata": {},
   "outputs": [
    {
     "data": {
      "text/plain": [
       "array([ 0., 14.,  7.,  8.,  2., 13.,  5.,  7., 15.,  1.,  6., 23.])"
      ]
     },
     "execution_count": 15,
     "metadata": {},
     "output_type": "execute_result"
    }
   ],
   "source": [
    "spikeCounts[6,:]"
   ]
  },
  {
   "cell_type": "code",
   "execution_count": 16,
   "metadata": {},
   "outputs": [
    {
     "data": {
      "text/plain": [
       "(1000, 12)"
      ]
     },
     "execution_count": 16,
     "metadata": {},
     "output_type": "execute_result"
    }
   ],
   "source": [
    "spikeCounts.shape"
   ]
  },
  {
   "cell_type": "code",
   "execution_count": 17,
   "metadata": {},
   "outputs": [
    {
     "name": "stdout",
     "output_type": "stream",
     "text": [
      "19.87951807228916 6.1482601921961395\n"
     ]
    }
   ],
   "source": [
    "FR, FF = model.thStats(binsize=0.25)\n",
    "print(FR, FF)"
   ]
  },
  {
   "cell_type": "code",
   "execution_count": 18,
   "metadata": {},
   "outputs": [
    {
     "name": "stdout",
     "output_type": "stream",
     "text": [
      "21.598666666666663 6.0332131474257915\n"
     ]
    }
   ],
   "source": [
    "FR, FF = model.empStats()\n",
    "print(FR.mean(), FF.mean())"
   ]
  },
  {
   "cell_type": "code",
   "execution_count": null,
   "metadata": {},
   "outputs": [],
   "source": []
  }
 ],
 "metadata": {
  "kernelspec": {
   "display_name": "Python 3",
   "language": "python",
   "name": "python3"
  },
  "language_info": {
   "codemirror_mode": {
    "name": "ipython",
    "version": 3
   },
   "file_extension": ".py",
   "mimetype": "text/x-python",
   "name": "python",
   "nbconvert_exporter": "python",
   "pygments_lexer": "ipython3",
   "version": "3.7.9"
  }
 },
 "nbformat": 4,
 "nbformat_minor": 4
}
